{
  "cells": [
    {
      "cell_type": "markdown",
      "metadata": {
        "colab_type": "text",
        "id": "view-in-github"
      },
      "source": [
        "<a href=\"https://colab.research.google.com/github/eleaz1/ActividadesIA/blob/main/Actividad_4_M%C3%A9todos_de_aprendizaje_no_supervisado.ipynb\" target=\"_parent\"><img src=\"https://colab.research.google.com/assets/colab-badge.svg\" alt=\"Open In Colab\"/></a>"
      ]
    },
    {
      "cell_type": "code",
      "execution_count": 1,
      "metadata": {
        "colab": {
          "base_uri": "https://localhost:8080/"
        },
        "id": "DHRs5PW95gqL",
        "outputId": "af42a9b6-38f5-4657-d0b1-76d3e07f810d"
      },
      "outputs": [
        {
          "name": "stdout",
          "output_type": "stream",
          "text": [
            "      Ruta  Hora_dia  Pasajeros Dia_semana    Clima\n",
            "0  Ruta_C1        21         35     Jueves  nublado\n",
            "1  Ruta_D1        16         86     Jueves  nublado\n",
            "2  Ruta_A1         8          6  Miércoles  nublado\n",
            "3  Ruta_C1         0         82     Martes  nublado\n",
            "4  Ruta_C1        20         81     Sábado  nublado\n"
          ]
        }
      ],
      "source": [
        "import pandas as pd\n",
        "import numpy as np\n",
        "\n",
        "# Generar un dataset de ejemplo\n",
        "np.random.seed(42)\n",
        "rutas = ['Ruta_A', 'Ruta_B', 'Ruta_C', 'Ruta_D']\n",
        "clima = ['soleado', 'lluvia', 'nublado']\n",
        "\n",
        "datos = {\n",
        "    'Ruta': np.random.choice(rutas, size=1000),\n",
        "    'Hora_dia': np.random.randint(0, 24, size=1000),\n",
        "    'Pasajeros': np.random.randint(5, 100, size=1000),\n",
        "    'Dia_semana': np.random.choice(['Lunes', 'Martes', 'Miércoles', 'Jueves', 'Viernes', 'Sábado', 'Domingo'], size=1000),\n",
        "    'Clima': np.random.choice(clima, size=1000)\n",
        "}\n",
        "\n",
        "df = pd.DataFrame(datos)\n",
        "print(df.head())\n",
        "\n",
        "# Convertir variables categóricas a variables numéricas\n",
        "df_encoded = pd.get_dummies(df, drop_first=True)"
      ]
    },
    {
      "cell_type": "code",
      "execution_count": 2,
      "metadata": {
        "colab": {
          "base_uri": "https://localhost:8080/",
          "height": 576
        },
        "id": "VTm_Ic7W611G",
        "outputId": "4442c9fa-554a-4b9e-afb9-cf14c688ea54"
      },
      "outputs": [
        {
          "ename": "ModuleNotFoundError",
          "evalue": "No module named 'matplotlib'",
          "output_type": "error",
          "traceback": [
            "\u001b[1;31m---------------------------------------------------------------------------\u001b[0m",
            "\u001b[1;31mModuleNotFoundError\u001b[0m                       Traceback (most recent call last)",
            "Cell \u001b[1;32mIn[2], line 3\u001b[0m\n\u001b[0;32m      1\u001b[0m \u001b[38;5;28;01mfrom\u001b[39;00m \u001b[38;5;21;01msklearn\u001b[39;00m\u001b[38;5;21;01m.\u001b[39;00m\u001b[38;5;21;01mcluster\u001b[39;00m \u001b[38;5;28;01mimport\u001b[39;00m KMeans\n\u001b[0;32m      2\u001b[0m \u001b[38;5;28;01mfrom\u001b[39;00m \u001b[38;5;21;01msklearn\u001b[39;00m\u001b[38;5;21;01m.\u001b[39;00m\u001b[38;5;21;01mpreprocessing\u001b[39;00m \u001b[38;5;28;01mimport\u001b[39;00m StandardScaler\n\u001b[1;32m----> 3\u001b[0m \u001b[38;5;28;01mimport\u001b[39;00m \u001b[38;5;21;01mmatplotlib\u001b[39;00m\u001b[38;5;21;01m.\u001b[39;00m\u001b[38;5;21;01mpyplot\u001b[39;00m \u001b[38;5;28;01mas\u001b[39;00m \u001b[38;5;21;01mplt\u001b[39;00m\n\u001b[0;32m      5\u001b[0m \u001b[38;5;66;03m# Normalizar los datos\u001b[39;00m\n\u001b[0;32m      6\u001b[0m scaler \u001b[38;5;241m=\u001b[39m StandardScaler()\n",
            "\u001b[1;31mModuleNotFoundError\u001b[0m: No module named 'matplotlib'"
          ]
        }
      ],
      "source": [
        "from sklearn.cluster import KMeans\n",
        "from sklearn.preprocessing import StandardScaler\n",
        "import matplotlib.pyplot as plt\n",
        "\n",
        "# Normalizar los datos\n",
        "scaler = StandardScaler()\n",
        "df_scaled = scaler.fit_transform(df_encoded)\n",
        "\n",
        "# Definir y entrenar el modelo K-Means\n",
        "kmeans = KMeans(n_clusters=4, random_state=42)\n",
        "kmeans.fit(df_scaled)\n",
        "\n",
        "# Obtener las etiquetas de los clusters\n",
        "df['Cluster'] = kmeans.labels_\n",
        "\n",
        "# Ver los primeros resultados\n",
        "print(df[['Ruta', 'Hora_dia', 'Pasajeros', 'Dia_semana', 'Clima', 'Cluster']].head())\n",
        "\n",
        "# Visualización de los clústeres en un gráfico 2D (usando dos características)\n",
        "plt.scatter(df['Hora_dia'], df['Pasajeros'], c=df['Cluster'], cmap='viridis')\n",
        "plt.xlabel('Hora del día')\n",
        "plt.ylabel('Pasajeros')\n",
        "plt.title('Clústeres basados en Hora del día y Pasajeros')\n",
        "plt.show()"
      ]
    },
    {
      "cell_type": "code",
      "execution_count": 3,
      "metadata": {
        "colab": {
          "base_uri": "https://localhost:8080/"
        },
        "id": "2nMWVIjl7bVg",
        "outputId": "f913c8f6-7504-46a9-ca48-b344c3127cf9"
      },
      "outputs": [
        {
          "name": "stdout",
          "output_type": "stream",
          "text": [
            "Inercia del modelo: 10757.01575263513\n",
            "Coeficiente de Silueta: 0.1420491516867491\n"
          ]
        }
      ],
      "source": [
        "print(f\"Inercia del modelo: {kmeans.inertia_}\")\n",
        "from sklearn.metrics import silhouette_score\n",
        "score = silhouette_score(df_scaled, kmeans.labels_)\n",
        "print(f\"Coeficiente de Silueta: {score}\")"
      ]
    }
  ],
  "metadata": {
    "colab": {
      "authorship_tag": "ABX9TyPryfzHQQsOjVFIkD1XsnRe",
      "include_colab_link": true,
      "provenance": []
    },
    "kernelspec": {
      "display_name": "Python 3",
      "name": "python3"
    },
    "language_info": {
      "codemirror_mode": {
        "name": "ipython",
        "version": 3
      },
      "file_extension": ".py",
      "mimetype": "text/x-python",
      "name": "python",
      "nbconvert_exporter": "python",
      "pygments_lexer": "ipython3",
      "version": "3.11.9"
    }
  },
  "nbformat": 4,
  "nbformat_minor": 0
}
